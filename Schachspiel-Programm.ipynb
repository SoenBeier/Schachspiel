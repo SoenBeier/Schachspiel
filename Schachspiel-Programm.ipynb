{
 "cells": [
  {
   "cell_type": "markdown",
   "metadata": {
    "collapsed": true
   },
   "source": [
    "## Main:\n",
    "Ablauf des Programms"
   ]
  },
  {
   "cell_type": "code",
   "execution_count": null,
   "metadata": {},
   "outputs": [],
   "source": [
    "from pylab import *\n",
    "\n",
    "spielfertig = False\n",
    "Name1 = \"Spieler1\" \n",
    "Name2 = \"Spieler2\"\n",
    "\n",
    "#Erstellung des 8*8 Arrays des Spielfeldes zu Beginn:\n",
    "spielfeld = np.array([[\"T\",\"S\",\"L\",\"D\",\"K\",\"L\",\"S\",\"T\"],[\"B\",\"B\",\"B\",\"B\",\"B\",\"B\",\"B\",\"B\"],[\"0\",\"0\",\"0\",\"0\",\"0\",\"0\",\"0\",\"0\"],[\"0\",\"0\",\"0\",\"0\",\"0\",\"0\",\"0\",\"0\"],[\"0\",\"0\",\"0\",\"0\",\"0\",\"0\",\"0\",\"0\"],[\"0\",\"0\",\"0\",\"0\",\"0\",\"0\",\"0\",\"0\"],[\"b\",\"b\",\"b\",\"b\",\"b\",\"b\",\"b\",\"b\"],[\"t\",\"s\",\"l\",\"d\",\"k\",\"l\",\"s\",\"t\"]])\n",
    "\n",
    "\n",
    "#Erstellt ein Dictionary (\"Einstellungen\" mit den vorgefassten Optionen)\n",
    "einstellungen = settings() \n",
    "\n",
    "\n",
    "while spielfertig == False: #so lange spielfertig == False, läuft das Spiel\n",
    "    \n",
    "    brettzeichnen(spielfeld)\n",
    "    spielfeld = zug(spielfeld, \"weiß\") \n",
    "    if schachmatt() == True:\n",
    "        gewinner = Spieler1 \n",
    "        break\n",
    "    \n",
    "    brettzeichnen(spielfeld)\n",
    "    spielfeld = zug(spielfeld, \"schwarz\")\n",
    "    if schachmatt() == True:\n",
    "        gewinner = Spieler2\n",
    "        break\n",
    "    \n",
    "    \n",
    "    \n",
    "siegerehrung(gewinner)   "
   ]
  },
  {
   "cell_type": "code",
   "execution_count": null,
   "metadata": {
    "collapsed": true
   },
   "outputs": [],
   "source": []
  },
  {
   "cell_type": "markdown",
   "metadata": {},
   "source": [
    "## Funktionen:\n",
    "\n",
    "Funktionen mit dem Status (fertig) sind fertig\n",
    "\n",
    "Funktionen mit dem Status (getestet) sind fertig und wurden auf ihre Richtigkeit getestet\n",
    "\n",
    "Funktionen ohne Status wurden sind nicht fertig und wurden nur zur vervollständigung/Vorrausplanung aufgeschrieben"
   ]
  },
  {
   "cell_type": "markdown",
   "metadata": {},
   "source": [
    "### Funktionen für den allgemeinen Spielverlauf:"
   ]
  },
  {
   "cell_type": "code",
   "execution_count": null,
   "metadata": {},
   "outputs": [],
   "source": [
    "#Funktionen mit dem Status (fertig) sind fertig\n",
    "#Funktionen mit dem Status (getestet) sind fertig und wurden auf ihre Richtigkeit getestet\n",
    "#Funktionen ohne Status wurden sind nicht fertig und wurden nur zur vervollständigung/Vorrausplanung aufgeschrieben\n",
    "\n",
    "\n",
    "\n",
    "\n",
    "def zug(feld, farbe):#(fertig) Führt einen Zug von Schwarz oder Weiß durch\n",
    "    zugkorrekt = False\n",
    "    \n",
    "    while zugkorrekt == False:#wenn der Zug korrekt ist, wird die while Schleife nicht mehr wiederholt, wenn er falsch ist wird nach einer richtigen Eingabe gefragt\n",
    "        zugarray = zugeingabe() #zug vllt. als array\n",
    "        zugkorrekt = zugpruefung(zugarray, farbe)\n",
    "        if zugkorrekt == False:\n",
    "            print(\"Der Vorherige Zug war Falsch, bitte geben sie einen korrekten Zug ein: \")\n",
    "    \n",
    "    feld = zugdurchfuehren(feld,zugarray)\n",
    "    \n",
    "    return(feld)\n",
    "\n",
    "def zugeingabe(): #(getestet) der Spieler gibt seinen Zug ein, dieser wird in einem Array gespeichert und zurückgegeben\n",
    "    buchstabenzuordnen = np.array([[None,\"a\",\"b\",\"c\",\"d\",\"e\",\"f\",\"g\",\"h\"],[None,\"A\",\"B\",\"C\",\"D\",\"E\",\"F\",\"G\",\"H\"]])\n",
    "    \n",
    "    zug = [input(\"Welches Feld soll angewählt werden(A1)? \"),input(\"Zu welchem Feld soll die Figur geschoben werden(B1)? \")]\n",
    "    \n",
    "    #Übersetzung des Zuges:\n",
    "    for z in range(2):#übersetzt die Buchstaben in Zahlen:\n",
    "        for x in range(9):\n",
    "            if (zug[0])[0] == buchstabenzuordnen[z][x]:\n",
    "                a = x\n",
    "                print(a)\n",
    "                \n",
    "            \n",
    "    for z in range(2):\n",
    "        for x in range(9):\n",
    "            if (zug[1])[0] == buchstabenzuordnen[z][x]:\n",
    "                b = x\n",
    "                \n",
    "        \n",
    "    zug = [a,int((zug[0])[1]),b,int((zug[1])[1])]#Variable Zug ist nun in der Form ([1,1,1,2])\n",
    "    \n",
    "    #Ausgabe zur Information, welcher Zug ausgeführt worden ist:\n",
    "    print(str(zug[0]) + str(zug[1]) + \"->\" + str(zug[2]) + str(zug[3]))\n",
    "    \n",
    "    return zug\n",
    "    \n",
    "    \n",
    "def zugpruefung(zug, farbe): #prüft ob der zug korrekt war und gibt dann True zurück,wenn er falsch war: False\n",
    "    return True\n",
    "\n",
    "\n",
    "def zugdurchfuehren(feld,zugarray):#(getestet) führt den Zug auf dem Feldarray durch und gibt das Feldarray wieder\n",
    "    \n",
    "    #Für die Übersichtlichkeit: Definierung der Indizes für den Zugriff aufs Zugarray\n",
    "    x0 = zugarray[0]-1\n",
    "    x1 = zugarray[1]-1\n",
    "    x2 = zugarray[2]-1\n",
    "    x3 = zugarray[3]-1\n",
    "    \n",
    "    feld[x2][x3] = feld[x0][x1]\n",
    "    feld[x0][x1] = \"0\" #das feld, von dem sich die Figur wegbewegt wird leer(also\"0\")\n",
    "\n",
    "    return feld\n",
    "\n",
    "def settings(): #(getestet) die Einstellungen des Spiels werden nach Eingabe in einem Dictionary gespeichert\n",
    "    Name1,Name2 = spielernamen()\n",
    "    einstellungen = {\"Name1\" : Name1, \"Name2\" : Name2}\n",
    "    \n",
    "    \n",
    "    return einstellungen\n",
    "\n",
    "\n",
    "def spielernamen(): #(getestet) gibt die Namen der Spieler in 2 Variabeln (Name1, Name2) zurück, welche zuvor vom Benutzer kreiiert worden sind\n",
    "    # Spieleranzahlabfrage\n",
    "    AnzahlderSpieler = 0\n",
    "    while AnzahlderSpieler != \"1\" and AnzahlderSpieler != \"2\":\n",
    "        AnzahlderSpieler = (input(\"Anzahl der Spieler? \"))\n",
    "        if AnzahlderSpieler == \"1\":\n",
    "            Name1 = input(\"Ich bin \",)\n",
    "            Name2 = \"CPU\"\n",
    "            print(\"Hallo\",Name1,\"und viel Spaß beim Spielen \")\n",
    "        elif AnzahlderSpieler == \"2\":\n",
    "            Name1 = input(\"Spieler 1 heißt \")\n",
    "            Name2 = input(\"Spieler 2 heißt \")\n",
    "            print(\"Hallo\",Name1,\"und\",Name2,\". Viel Spaß beim Spielen\")\n",
    "        else :\n",
    "            print(\"Bitte eine gültige Anzahl an Spielern eintragen(1 oder 2 )\")\n",
    "    return (Name1,Name2) #gibt die Namen der Spieler zurück\n",
    "    \n",
    "def schachmatt():\n",
    "    return False\n",
    "\n",
    " "
   ]
  },
  {
   "cell_type": "markdown",
   "metadata": {},
   "source": [
    "### Funktionen für die graphische Ausgabe:"
   ]
  },
  {
   "cell_type": "code",
   "execution_count": null,
   "metadata": {},
   "outputs": [],
   "source": [
    "def brettzeichnen(feld):# zeichnet den jetzigen Zustand des Feldes (FEHLT: ABCD usw. am Rand, Lösung: mit print Befehlen)\n",
    "    print(feld)  \n",
    "\n",
    "\n",
    "def brettzeichnenschön(feld):# Zeichnet das Feld mit der turtle\n",
    "    None"
   ]
  },
  {
   "cell_type": "markdown",
   "metadata": {},
   "source": [
    "### Funktionen für den CPU:"
   ]
  },
  {
   "cell_type": "code",
   "execution_count": null,
   "metadata": {
    "collapsed": true
   },
   "outputs": [],
   "source": []
  },
  {
   "cell_type": "code",
   "execution_count": null,
   "metadata": {},
   "outputs": [],
   "source": []
  },
  {
   "cell_type": "code",
   "execution_count": null,
   "metadata": {},
   "outputs": [],
   "source": []
  },
  {
   "cell_type": "code",
   "execution_count": null,
   "metadata": {},
   "outputs": [],
   "source": [
    "\n"
   ]
  },
  {
   "cell_type": "code",
   "execution_count": null,
   "metadata": {},
   "outputs": [],
   "source": [
    "\n"
   ]
  },
  {
   "cell_type": "code",
   "execution_count": null,
   "metadata": {
    "collapsed": true
   },
   "outputs": [],
   "source": []
  }
 ],
 "metadata": {
  "kernelspec": {
   "display_name": "Python 3",
   "language": "python",
   "name": "python3"
  },
  "language_info": {
   "codemirror_mode": {
    "name": "ipython",
    "version": 3
   },
   "file_extension": ".py",
   "mimetype": "text/x-python",
   "name": "python",
   "nbconvert_exporter": "python",
   "pygments_lexer": "ipython3",
   "version": "3.6.1"
  }
 },
 "nbformat": 4,
 "nbformat_minor": 2
}
