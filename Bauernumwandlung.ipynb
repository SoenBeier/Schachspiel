{
 "cells": [
  {
   "cell_type": "code",
   "execution_count": 5,
   "metadata": {},
   "outputs": [
    {
     "name": "stdout",
     "output_type": "stream",
     "text": [
      "Geben sie eine Figur ein (B,T,D,...) T\n",
      "[['T' 'S' 'L' 'D' 'K' 'L' 'S' 'T']\n",
      " ['B' 'B' 'B' 'B' 'B' 'B' 'B' 'B']\n",
      " ['0' '0' '0' '0' '0' '0' '0' '0']\n",
      " ['0' '0' '0' '0' '0' '0' '0' '0']\n",
      " ['0' '0' '0' '0' '0' '0' '0' '0']\n",
      " ['0' '0' '0' '0' '0' '0' '0' '0']\n",
      " ['b' 'b' 'b' 'b' 'b' 'b' 'b' 'b']\n",
      " ['t' 's' 'l' 'D' 'k' 'T' 's' 't']]\n"
     ]
    }
   ],
   "source": [
    "\n",
    "def Bauerumwandlung(feld):\n",
    "    korrekt = False\n",
    "    efw = ['b','t','d','s','l'] #erlaubte Figuren zum ziehen für Weiß\n",
    "    efs = ['B','T','D','S','L'] #erlaubte Figuren zum ziehen für Schwarz\n",
    "    for i in range(0,8):\n",
    "        y = 0\n",
    "        if feld[y][i] == 'b':\n",
    "            while korrekt == False:\n",
    "                c = input(\"Geben sie eine Figur ihrer Wahl ein (b,t,d,...) \") # c entspricht dem Feld \n",
    "                if c in efw:\n",
    "                    korrekt = True\n",
    "                    feld[y][i] = c\n",
    "                else:\n",
    "                    print('Falsche Eingabe. Bitte geben sie erneut eine Figur ein die sie haben möchten')\n",
    "        \n",
    "    \n",
    "    for i in range(0,8):\n",
    "        y = 7\n",
    "        if feld[y][i] == 'B':\n",
    "            while korrekt == False:\n",
    "                r = input(\"Geben sie eine Figur ein (B,T,D,...) \") # c entspricht dem Feld \n",
    "                if r in efs:\n",
    "                    korrekt = True\n",
    "                    feld[y][i] = r\n",
    "                else:\n",
    "                    print('Falsche Eingabe. Bitte geben sie erneut eine Figur ein die sie haben möchten')\n",
    "    return feld\n",
    "print(Bauerumwandlung(spielfeld))"
   ]
  },
  {
   "cell_type": "code",
   "execution_count": null,
   "metadata": {
    "collapsed": true
   },
   "outputs": [],
   "source": []
  },
  {
   "cell_type": "code",
   "execution_count": null,
   "metadata": {
    "collapsed": true
   },
   "outputs": [],
   "source": []
  }
 ],
 "metadata": {
  "kernelspec": {
   "display_name": "Python 3",
   "language": "python",
   "name": "python3"
  },
  "language_info": {
   "codemirror_mode": {
    "name": "ipython",
    "version": 3
   },
   "file_extension": ".py",
   "mimetype": "text/x-python",
   "name": "python",
   "nbconvert_exporter": "python",
   "pygments_lexer": "ipython3",
   "version": "3.6.2"
  }
 },
 "nbformat": 4,
 "nbformat_minor": 2
}
